{
 "cells": [
  {
   "cell_type": "markdown",
   "metadata": {},
   "source": [
    "## Smiles"
   ]
  },
  {
   "cell_type": "code",
   "execution_count": 4,
   "metadata": {},
   "outputs": [],
   "source": [
    "import sys\n",
    "import numpy as np\n",
    "import pandas as pd\n",
    "from cdk_pywrapper.cdk_pywrapper import Compound\n",
    "from scipy import spatial\n",
    "from io import StringIO \n",
    "\n",
    "class Capturing(list):\n",
    "  def __enter__(self):\n",
    "    self._stdout = sys.stdout\n",
    "    sys.stdout = self._stringio = StringIO()\n",
    "    return self\n",
    "  def __exit__(self, *args):\n",
    "    self.extend(self._stringio.getvalue().splitlines())\n",
    "    del self._stringio\n",
    "    sys.stdout = self._stdout\n",
    "\n",
    "class SmilesCharacteristics:\n",
    "  def __init__(self, Smiles, saveMapFinger=False, saveSimil=False):\n",
    "    self.data = {}\n",
    "    for n, smile in enumerate(Smiles):\n",
    "      cmpnd = Compound(compound_string=smile, identifier_type='smiles')\n",
    "      with Capturing() as fingerprint:\n",
    "        cmpnd.get_fingerprint().asBitSet()\n",
    "      fingerprint = list(eval(fingerprint[1]))\n",
    "      self.data[n]={\n",
    "        'smiles_isomeric':cmpnd.get_smiles(smiles_type='isomeric'),\n",
    "        'smiles_unique':cmpnd.get_smiles(smiles_type='unique'),\n",
    "        'smiles_absolute':cmpnd.get_smiles(smiles_type='absolute'),\n",
    "        'smiles_generic':cmpnd.get_smiles(smiles_type='generic'),\n",
    "        'inchi_key':cmpnd.get_inchi_key(),\n",
    "        'inchi':cmpnd.get_inchi(),\n",
    "        'fingerprint':np.array(sorted(fingerprint)),\n",
    "        }\n",
    "    self.metrics(Smiles)\n",
    "    if saveMapFinger:\n",
    "      pd.DataFrame(self.mapFinger)\n",
    "    if saveSimil:\n",
    "      pd.DataFrame(self.simil)\n",
    "      \n",
    "\n",
    "  def metrics(self,Smiles):\n",
    "    self.mapFinger = np.zeros([len(Smiles), 1024])\n",
    "    for n in range(len(Smiles)):\n",
    "      self.mapFinger[n][self.data[n]['fingerprint']]=1\n",
    "    self.simil = np.zeros([len(Smiles), len(Smiles)])*np.nan\n",
    "    for n1 in range(len(Smiles)):\n",
    "      for n2 in range(len(Smiles)):\n",
    "        self.simil[n1,n2] = 1-spatial.distance.cosine(self.mapFinger[n1,:], self.mapFinger[n2,:])\n",
    "\n",
    "map2 = pd.read_csv('/proposal/data/matched_mibig_gnps_update.csv')\n",
    "print(map2.shape)\n",
    "map2.head(5)"
   ]
  },
  {
   "cell_type": "code",
   "execution_count": null,
   "metadata": {},
   "outputs": [],
   "source": [
    "data_mibig = {}\n",
    "for n, smile in enumerate(map2['mibig_smiles']):\n",
    "  try:\n",
    "    cmpnd = Compound(compound_string=smile, identifier_type='smiles')\n",
    "    with Capturing() as fingerprint:\n",
    "      cmpnd.get_fingerprint().asBitSet()\n",
    "    fingerprint = list(eval(fingerprint[1]))\n",
    "    data_mibig[n]={\n",
    "      'smiles_isomeric':cmpnd.get_smiles(smiles_type='isomeric'),\n",
    "      'smiles_unique':cmpnd.get_smiles(smiles_type='unique'),\n",
    "      'smiles_absolute':cmpnd.get_smiles(smiles_type='absolute'),\n",
    "      'smiles_generic':cmpnd.get_smiles(smiles_type='generic'),\n",
    "      'inchi_key':cmpnd.get_inchi_key(),\n",
    "      'inchi':cmpnd.get_inchi(),\n",
    "      'fingerprint':np.array(sorted(fingerprint)),\n",
    "      }\n",
    "  except:\n",
    "    pass\n",
    "len(data_mibig)"
   ]
  },
  {
   "cell_type": "code",
   "execution_count": null,
   "metadata": {},
   "outputs": [],
   "source": [
    "mapFinger_mibig = np.zeros([len(data_mibig), 1024])\n",
    "for n in range(len(data_mibig)):\n",
    "  mapFinger_mibig[n][data_mibig[n]['fingerprint']]=1\n",
    "  \n",
    "simil_mibig = np.zeros([len(data_mibig), len(data_mibig)])*np.nan\n",
    "for n1 in range(len(data_mibig)):\n",
    "  for n2 in range(len(data_mibig)):\n",
    "    simil_mibig[n1,n2] = 1-spatial.distance.cosine(mapFinger_mibig[n1,:], mapFinger_mibig[n2,:])\n",
    "\n",
    "df_mibig = pd.DataFrame(simil_mibig)\n",
    "df_mibig.to_csv('matrix.csv')"
   ]
  }
 ],
 "metadata": {
  "interpreter": {
   "hash": "916dbcbb3f70747c44a77c7bcd40155683ae19c65e1c03b4aa3499c5328201f1"
  },
  "kernelspec": {
   "display_name": "Python 3.8.10 64-bit",
   "name": "python3"
  },
  "language_info": {
   "codemirror_mode": {
    "name": "ipython",
    "version": 3
   },
   "file_extension": ".py",
   "mimetype": "text/x-python",
   "name": "python",
   "nbconvert_exporter": "python",
   "pygments_lexer": "ipython3",
   "version": "3.8.10"
  },
  "orig_nbformat": 4
 },
 "nbformat": 4,
 "nbformat_minor": 2
}
